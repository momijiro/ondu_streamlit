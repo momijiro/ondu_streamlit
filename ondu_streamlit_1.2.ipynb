{
 "cells": [
  {
   "cell_type": "markdown",
   "metadata": {},
   "source": [
    "## OND'U管理\n"
   ]
  },
  {
   "cell_type": "code",
   "execution_count": 1,
   "metadata": {},
   "outputs": [],
   "source": [
    "import pandas as pd\n",
    "import numpy as np\n",
    "import datetime\n",
    "# from dateutil.relativedelta import relativedelta"
   ]
  },
  {
   "cell_type": "code",
   "execution_count": 40,
   "metadata": {},
   "outputs": [],
   "source": [
    "useday = 0\n",
    "# n日前のデータを使いたいなら、useday=nにする\n",
    "# (例)昨日のデータを使いたいなら、useday=1にする"
   ]
  },
  {
   "cell_type": "code",
   "execution_count": 3,
   "metadata": {},
   "outputs": [],
   "source": [
    "def dt_change(dt):\n",
    "    y = '{:0=4}'.format(dt.year)\n",
    "    m = '{:0=2}'.format(dt.month)\n",
    "    d = '{:0=2}'.format(dt.day)\n",
    "    return f'{y}{m}{d}'\n",
    "\n",
    "if useday == 0:\n",
    "    dt_end = datetime.datetime.now()\n",
    "else:\n",
    "    dt_end = datetime.datetime.now() - datetime.timedelta(days=useday)\n",
    "    \n",
    "dt_start = dt_end - datetime.timedelta(days=30)\n",
    "dt_start_ = dt_end - datetime.timedelta(days=13)   \n",
    "\n",
    "# start = '20211011'\n",
    "# end = '20211024'"
   ]
  },
  {
   "cell_type": "code",
   "execution_count": 4,
   "metadata": {},
   "outputs": [],
   "source": [
    "# 30日前\n",
    "start = dt_change(dt_start)\n",
    "#14日前\n",
    "start_ = dt_change(dt_start_)\n",
    "#開始日\n",
    "end = dt_change(dt_end)"
   ]
  },
  {
   "cell_type": "code",
   "execution_count": 5,
   "metadata": {},
   "outputs": [],
   "source": [
    "remove_days = []\n",
    "\n",
    "for i in range(30):\n",
    "    now  = dt_start + datetime.timedelta(days=i)\n",
    "    if now == dt_start_:\n",
    "        break\n",
    "    else:\n",
    "        remove_days.append(now)   "
   ]
  },
  {
   "cell_type": "code",
   "execution_count": 6,
   "metadata": {},
   "outputs": [],
   "source": [
    "path1 = f'筑波大学 斬桐舞-{start}-{end}.csv'\n",
    "path2 = f'つくば 斬桐舞-{start}-{end}.csv'\n",
    "df1 = pd.read_csv(path1)\n",
    "df2 = pd.read_csv(path2)\n",
    "dfs = [df1, df2]"
   ]
  },
  {
   "cell_type": "code",
   "execution_count": 7,
   "metadata": {},
   "outputs": [],
   "source": [
    "# 日付データの処理\n",
    "def convert_date(df, col):\n",
    "    df = df.copy()\n",
    "    df[col] = pd.to_datetime(df[col])\n",
    "    #df['日付'] = df[col].map(lambda x:str(x.year)+str(x.month).zfill(2)+str(x.day).zfill(2))\n",
    "    df['日付'] = df[col].map(lambda x:str(x.month)+'/'+str(x.day))\n",
    "    \n",
    "    #df['月'] = df[col].map(lambda\n",
    "    # df['日'] = df[col].map(lambda x:x.day)\n",
    "    df = df.drop(col, axis=1)\n",
    "    return df"
   ]
  },
  {
   "cell_type": "code",
   "execution_count": 8,
   "metadata": {},
   "outputs": [],
   "source": [
    "def data_shaping(df):\n",
    "    df_ = df.copy()\n",
    "    \n",
    "    # 不要なカラムを削除\n",
    "    drops = [\"'ID'\", \"'グループ名'\", \"'発熱'\", \"'平熱'\", \"'最終出勤日'\", \n",
    "         \"'体温(問診票情報)'\", \"'症状(問診票情報)'\", \n",
    "         \"'通勤手段（選択）'\", \"'通勤手段（詳細）'\",\n",
    "        \"'受診医療機器名'\", \"'PCR検査（有無）'\", \n",
    "         \"'PCR検査（詳細）'\", \"'感染者と接触有無'\", \n",
    "         \"'感染者接触（詳細）'\", \"'県外移動（有無）都道府県外移動、海外渡航 履歴'\",\n",
    "         \"'県外移動（詳細：誰が）'\", \"'県外移動（詳細：場所）'\", \n",
    "        \"'県外移動（期間）'\", \"'人の過密場所への移動(有無)'\", \n",
    "         \"'人の過密場所への移動（詳細：誰が）'\",\n",
    "        \"'人の過密場所への移動（詳細：場所）'\", \n",
    "         \"'人の過密場所への移動(期間表示）'\"]\n",
    "    \n",
    "    df_ = df_.drop(drops, axis=1)\n",
    "    \n",
    "    # カラムの名前を変更\n",
    "    renames = {\"'氏名'\":\"氏名\", \n",
    "           \"'日付・時刻'\":\"日付・時刻\",\n",
    "           \"'体温(体調情報)'\":\"体温\",\n",
    "           \"'症状(体調情報)'\":\"症状\",\n",
    "           \"'メッセージ'\":\"メッセージ\"}\n",
    "    df_ = df_.rename(columns=renames)\n",
    "    \n",
    "    #日付・時刻→日付\n",
    "    df_ = convert_date(df_, '日付・時刻')\n",
    "    \n",
    "    # 引用符をなくす\n",
    "    cols = ['氏名', '体温', '症状', 'メッセージ']\n",
    "    for c in cols:\n",
    "        df_[c] = df_[c].str[1:]\n",
    "        df_[c] = df_[c].str[:-1]\n",
    "        \n",
    "    # 過去14日分以外のデータ(つまり、前から17日分のデータ)を削除\n",
    "    \n",
    "    for i in remove_days:\n",
    "        now = f'{i.month}/{i.day}'\n",
    "        df_ = df_[df_['日付'] != now]\n",
    "\n",
    "    return df_"
   ]
  },
  {
   "cell_type": "code",
   "execution_count": 9,
   "metadata": {
    "scrolled": true
   },
   "outputs": [],
   "source": [
    "df1 = data_shaping(df1)\n",
    "df2 = data_shaping(df2)\n",
    "\n",
    "#管理者\n",
    "managers = ['中西 映人','春日 崇伸', '米谷 はづき', '西村 篤朗', '佐久間 悠斗']\n",
    "for m in managers:\n",
    "    for i in range(len(df2)):\n",
    "        if df2.iloc[i]['氏名'] == m:\n",
    "            df2 = df2[df2['氏名'] != m]\n",
    "            break\n",
    "\n",
    "df_ = pd.concat([df1, df2])"
   ]
  },
  {
   "cell_type": "code",
   "execution_count": 10,
   "metadata": {},
   "outputs": [],
   "source": [
    "members = [\n",
    "# 1年生:17\n",
    "'笹子 恵利',\n",
    "'大田 小夏',\n",
    "'牧本 武蔵',\n",
    "'角 晴香',\n",
    "'小山 杏奈',\n",
    "'山地 沙蘭',\n",
    "'水谷 文音',\n",
    "'荻 真優子',\n",
    "'朱 博瑄',\n",
    "'梶原 城太',\n",
    "'藤枝 美帆',\n",
    "'吉永 晴香',\n",
    "'北野 志保',\n",
    "'近藤 彩加',\n",
    "'長谷川 紗希',\n",
    "'谷渕 晴哉',\n",
    "'櫻井 俊太郎',\n",
    "\n",
    "# 2年生:19(累計36)\n",
    "'佐久間 悠斗',\n",
    "'車谷 郁実',\n",
    "'田嶋 悠楽々',\n",
    "'青木 日花',\n",
    "'村崎 咲良',\n",
    "'鴻巣 遥香',\n",
    "'米谷 はづき',\n",
    "'小泉 ときわ',\n",
    "'天草 萌々',\n",
    "'高柳 菜月',\n",
    "'西村 篤朗',\n",
    "'星野 明日美',\n",
    "'齊藤 由理',\n",
    "'佐光 未帆',\n",
    "'加藤 大輝',\n",
    "'萩原 怜央',\n",
    "'花井 菜々子',\n",
    "'水野 隼',\n",
    "'寄川 淳聖',\n",
    "    \n",
    "# 3年生 :17(累計53)\n",
    "'大竹 叶望',\n",
    "'春日 崇伸',\n",
    "'片岡 弓澄',\n",
    "# '川邊 笑',\n",
    "'黒川 夕鶴',\n",
    "'小林 優太',\n",
    "'齋藤 真衣子',\n",
    "# '櫻井 藍花里',\n",
    "'佐藤 綾香',\n",
    "# '佐藤 由',\n",
    "'塩入 翔也',\n",
    "'下仲 咲穂',\n",
    "'島 沙也加',\n",
    "'田岡 佑基',\n",
    "'谷口 萌',\n",
    "'戸井田 風音',\n",
    "'中西 映人',\n",
    "'原田 秦冴',\n",
    "'細谷 なつみ',\n",
    "'眞鍋 礼子',\n",
    "\n",
    "# 4年生 :8 (累計61)\n",
    "'大坂 実旺',\n",
    "'小澤 政貴',\n",
    "'加来 祐子',\n",
    "'齋藤 亘佑',\n",
    "'孫 辰希',\n",
    "'田中 大輔',\n",
    "'鍋山 雄樹',\n",
    "'本田 拓海',\n",
    "\n",
    "# 院生:4(累計65)\n",
    "'川端 航平',\n",
    "'二宮 功伎',\n",
    "'吉澤 秀俊',\n",
    "'澁澤 薫',\n",
    "# '若木 良太',\n",
    "\n",
    "# 社会人さん:21(累計86)\n",
    "'赤根 大介',\n",
    "'赤根 たか子',\n",
    "'赤根 寛',\n",
    "'井上 百合子',\n",
    "'加園 真愛',\n",
    "'後坊 健太',\n",
    "'齊藤 憲二',\n",
    "'齊藤 裕希也',\n",
    "'佐藤 恵美子',\n",
    "'鈴木 悠斗',\n",
    "'中村 雅子',\n",
    "'中村 公祐',\n",
    "'坂東 香代子',\n",
    "'坂東 正樹',\n",
    "'松本 朔弥',\n",
    "'安田 清美',\n",
    "'飯村 良枝',\n",
    "'土井原 良美',\n",
    "'宮澤 美幸',\n",
    "'北條 海織',\n",
    "'Sesso Bruno',\n",
    "]\n",
    "# members_"
   ]
  },
  {
   "cell_type": "code",
   "execution_count": 11,
   "metadata": {},
   "outputs": [],
   "source": [
    "for m in managers:\n",
    "    for i in range(len(df2)):\n",
    "        if df2.iloc[i]['氏名'] == m:\n",
    "            df2 = df2[df2['氏名'] != m]\n",
    "            break"
   ]
  },
  {
   "cell_type": "code",
   "execution_count": 12,
   "metadata": {},
   "outputs": [],
   "source": [
    "# 学年ごとの人数\n",
    "#1,2,3,4年,院生,社会人さん\n",
    "n1, n2, n3, n4, n5, n6 = 17, 19, 17, 8, 4, 21"
   ]
  },
  {
   "cell_type": "code",
   "execution_count": 13,
   "metadata": {},
   "outputs": [],
   "source": [
    "#名前×日付データ\n",
    "def name_day(df_, members=members):\n",
    "    # 名簿\n",
    "#     members = []\n",
    "#     for m in df_['氏名'].unique():\n",
    "#         members.append(m)\n",
    "\n",
    "    # 日付一覧\n",
    "    days = []\n",
    "    for d in df_['日付'].unique():\n",
    "        days.append(d)\n",
    "\n",
    "    # http://hxn.blog.jp/archives/11591404.html\n",
    "    A = pd.DataFrame(index=members, columns=days)\n",
    "\n",
    "    # 37.5度以上があったら、体温表示、無ければ〇\n",
    "    for m in members:\n",
    "        personal_df = df_[df_.氏名==m]\n",
    "        \n",
    "        for i in range(len(personal_df)):\n",
    "            # 高熱の場合は★をつける\n",
    "            if float(personal_df.iloc[i]['体温']) > 37.4:\n",
    "                personal_df.iloc[i]['体温'] = '★' + personal_df.iloc[i]['体温']\n",
    "\n",
    "            \n",
    "        for d in A.columns:\n",
    "            day_data = personal_df[personal_df.日付==d]\n",
    "\n",
    "            if day_data.empty is True:\n",
    "                pass\n",
    "\n",
    "            else:\n",
    "                text = day_data.iloc[0]['体温']\n",
    "                A.loc[m][d] = text   \n",
    "            \n",
    "    return A"
   ]
  },
  {
   "cell_type": "code",
   "execution_count": 14,
   "metadata": {
    "scrolled": true
   },
   "outputs": [],
   "source": [
    "A = name_day(df_)"
   ]
  },
  {
   "cell_type": "markdown",
   "metadata": {},
   "source": [
    "def highlight_negative(val):\n",
    "    if val > 37.4:\n",
    "        return 'color: {0}; font-weight: bold'.format('red')\n",
    "    else:\n",
    "        return 'color: {0}'.format('black')\n",
    "\n",
    "A.style.applymap(highlight_negative)\n",
    "A"
   ]
  },
  {
   "cell_type": "code",
   "execution_count": 15,
   "metadata": {},
   "outputs": [],
   "source": [
    "A.insert(0, '未記録数','0')\n",
    "#A"
   ]
  },
  {
   "cell_type": "code",
   "execution_count": 16,
   "metadata": {
    "scrolled": true
   },
   "outputs": [],
   "source": [
    "a = A.isnull().sum(axis=1)\n",
    "for i in range(len(a)):\n",
    "    b = a.iloc[i]\n",
    "    if b == 0:\n",
    "        A.iat[i,0] = '〇'\n",
    "    else:\n",
    "        A.iat[i,0] = b\n",
    "#A"
   ]
  },
  {
   "cell_type": "code",
   "execution_count": 17,
   "metadata": {},
   "outputs": [],
   "source": [
    "# 学年ごとの人数\n",
    "#1,2,3,4年,院生,社会人さん\n",
    "n1, n2, n3, n4, n5, n6 = 17, 19, 17, 8, 4, 21"
   ]
  },
  {
   "cell_type": "code",
   "execution_count": 18,
   "metadata": {},
   "outputs": [],
   "source": [
    "# insertは、列には使えるが行には使えないので、\n",
    "# 転置→insert→転置する必要がある\n",
    "n0_ = 0\n",
    "n1_ = n1 + n0_\n",
    "n2_ = n2 + n1_\n",
    "n3_ = n3 + n2_\n",
    "n4_ = n4 + n3_\n",
    "n5_ = n5 + n4_\n",
    "\n",
    "B = A.copy()\n",
    "AT = A.T\n",
    "AT.insert(n0_  , '大学1年', '----')\n",
    "AT.insert(n1_+1, '大学2年', '----')\n",
    "AT.insert(n2_+2, '大学3年', '----')\n",
    "AT.insert(n3_+3, '大学4年', '----')\n",
    "AT.insert(n4_+4, '大学院生', '----')\n",
    "AT.insert(n5_+5, '社会人', '----')\n",
    "A = AT.T\n"
   ]
  },
  {
   "cell_type": "code",
   "execution_count": 19,
   "metadata": {
    "scrolled": true
   },
   "outputs": [],
   "source": [
    "n6_ = n6 + 1\n",
    "A1 = A.iloc[:-n6_]\n",
    "A2 = A.iloc[-n6_:]\n",
    "# A1"
   ]
  },
  {
   "cell_type": "code",
   "execution_count": 20,
   "metadata": {},
   "outputs": [],
   "source": [
    "# pip install openpyxl\n",
    "# pip install xlwt"
   ]
  },
  {
   "cell_type": "code",
   "execution_count": 21,
   "metadata": {},
   "outputs": [],
   "source": [
    "term = f'{start_}_{end}'\n",
    "path = f'斬桐舞 体温記録_{term}.xlsx'\n",
    "# A1.to_excel(path, sheet_name='筑波大学斬桐舞')\n",
    "# A2.to_excel(path, sheet_name='つくば斬桐舞')"
   ]
  },
  {
   "cell_type": "code",
   "execution_count": 22,
   "metadata": {},
   "outputs": [],
   "source": [
    "with pd.ExcelWriter(path) as writer:\n",
    "    A1.to_excel(writer, sheet_name=f\"筑波大学 斬桐舞\")\n",
    "    A2.to_excel(writer, sheet_name=f\"つくば 斬桐舞\")"
   ]
  },
  {
   "cell_type": "markdown",
   "metadata": {
    "scrolled": true
   },
   "source": [
    "display(A)"
   ]
  },
  {
   "cell_type": "code",
   "execution_count": 23,
   "metadata": {},
   "outputs": [],
   "source": [
    "B1 = B.iloc[:n1_]\n",
    "B2 = B.iloc[n1_:n2_]\n",
    "B3 = B.iloc[n2_:n3_]\n",
    "B4 = B.iloc[n3_:n4_]\n",
    "B5 = B.iloc[n4_:n5_]\n",
    "B6 = B.iloc[-n6:]\n",
    "B45 = pd.concat([B4, B5])"
   ]
  },
  {
   "cell_type": "code",
   "execution_count": 24,
   "metadata": {},
   "outputs": [],
   "source": [
    "# B_list = [B1, B2, B3, B4, B5, B6]\n",
    "B_list = [B1, B2, B3, B45, B6]\n"
   ]
  },
  {
   "cell_type": "code",
   "execution_count": 25,
   "metadata": {},
   "outputs": [],
   "source": [
    "def ok_missing(A, ALL_MISSING):  \n",
    "    OK = []\n",
    "    MISSING = []\n",
    "    \n",
    "\n",
    "    for i in A.index:\n",
    "        n = A.loc[i].isna().sum()\n",
    "        if n == 0:\n",
    "            OK.append(i)\n",
    "        elif n == 14:\n",
    "            ALL_MISSING.append(i)\n",
    "        else:\n",
    "            text = f'{i}({n})'\n",
    "            MISSING.append(text)\n",
    "    \n",
    "    return OK, MISSING"
   ]
  },
  {
   "cell_type": "code",
   "execution_count": 26,
   "metadata": {
    "scrolled": true
   },
   "outputs": [],
   "source": [
    "def all_ok_missing(B_list):\n",
    "    Os = []\n",
    "    Ms = []\n",
    "    ALL_MISSING = []\n",
    "    for i in B_list:\n",
    "        o, m = ok_missing(i, ALL_MISSING)\n",
    "        Os.append(o)\n",
    "        Ms.append(m)\n",
    "    return Os, Ms, ALL_MISSING"
   ]
  },
  {
   "cell_type": "code",
   "execution_count": 27,
   "metadata": {},
   "outputs": [],
   "source": [
    "Os, Ms, ALL_MISSING = all_ok_missing(B_list)"
   ]
  },
  {
   "cell_type": "code",
   "execution_count": 33,
   "metadata": {},
   "outputs": [],
   "source": [
    "# def ok_display(O):\n",
    "#     j = 0\n",
    "#     k = []\n",
    "#     for i in O:\n",
    "#         if j == 10:\n",
    "#             print(*k, sep=', ')\n",
    "#             j = 0\n",
    "#             k = []\n",
    "\n",
    "#         k.append(i)\n",
    "#         j += 1\n",
    "# #     print(k)\n",
    "#     print(*k, sep=', ')"
   ]
  },
  {
   "cell_type": "code",
   "execution_count": 37,
   "metadata": {},
   "outputs": [],
   "source": [
    "def ok_display(O):\n",
    "    j = 0\n",
    "    k = []\n",
    "    for i in O:\n",
    "        if j == 9:\n",
    "            print(k)\n",
    "            j = 0\n",
    "            k = []\n",
    "\n",
    "        k.append(i)\n",
    "        j += 1\n",
    "    print(k)"
   ]
  },
  {
   "cell_type": "code",
   "execution_count": 38,
   "metadata": {},
   "outputs": [],
   "source": [
    "# texts = ['筑波大学1年', '筑波大学2年', '筑波大学3年', '筑波大学4年', '筑波大学院生', '社会人さん']\n",
    "texts = ['筑波大学1年', '筑波大学2年', '筑波大学3年', '筑波大学4年以上', '社会人さん']"
   ]
  },
  {
   "cell_type": "code",
   "execution_count": 39,
   "metadata": {
    "scrolled": true
   },
   "outputs": [
    {
     "name": "stdout",
     "output_type": "stream",
     "text": [
      "本日の名簿(20211029-20211111)\n",
      "\n",
      "筑波大学1年 : 15\n",
      "['笹子 恵利', '大田 小夏', '牧本 武蔵', '角 晴香', '小山 杏奈', '山地 沙蘭', '水谷 文音', '荻 真優子', '朱 博瑄']\n",
      "['梶原 城太', '吉永 晴香', '北野 志保', '近藤 彩加', '谷渕 晴哉', '櫻井 俊太郎']\n",
      "\n",
      "筑波大学2年 : 15\n",
      "['佐久間 悠斗', '車谷 郁実', '田嶋 悠楽々', '村崎 咲良', '鴻巣 遥香', '米谷 はづき', '天草 萌々', '高柳 菜月', '西村 篤朗']\n",
      "['星野 明日美', '齊藤 由理', '佐光 未帆', '加藤 大輝', '萩原 怜央', '花井 菜々子']\n",
      "\n",
      "筑波大学3年 : 9\n",
      "['春日 崇伸', '片岡 弓澄', '佐藤 綾香', '下仲 咲穂', '戸井田 風音', '中西 映人', '原田 秦冴', '細谷 なつみ', '眞鍋 礼子']\n",
      "\n",
      "筑波大学4年以上 : 6\n",
      "['大坂 実旺', '小澤 政貴', '齋藤 亘佑', '田中 大輔', '川端 航平', '二宮 功伎']\n",
      "\n",
      "社会人さん : 12\n",
      "['赤根 大介', '赤根 たか子', '赤根 寛', '井上 百合子', '齊藤 憲二', '齊藤 裕希也', '鈴木 悠斗', '松本 朔弥', '安田 清美']\n",
      "['飯村 良枝', '宮澤 美幸', 'Sesso Bruno']\n",
      "\n"
     ]
    }
   ],
   "source": [
    "print(f'本日の名簿({start_}-{end})')\n",
    "print()\n",
    "for i in range(len(texts)):\n",
    "    print(texts[i], ':',len(Os[i]))\n",
    "    ok_display(Os[i])\n",
    "    print()"
   ]
  },
  {
   "cell_type": "code",
   "execution_count": 32,
   "metadata": {},
   "outputs": [
    {
     "name": "stdout",
     "output_type": "stream",
     "text": [
      "出してない人リスト(20211029-20211111)\n",
      "\n",
      "筑波大学1年 : 0\n",
      "\n",
      "\n",
      "筑波大学2年 : 2\n",
      "青木 日花(1), 小泉 ときわ(1)\n",
      "\n",
      "筑波大学3年 : 3\n",
      "大竹 叶望(1), 小林 優太(1), 島 沙也加(1)\n",
      "\n",
      "筑波大学4年以上 : 3\n",
      "加来 祐子(3), 本田 拓海(4), 吉澤 秀俊(1)\n",
      "\n",
      "社会人さん : 6\n",
      "加園 真愛(7), 後坊 健太(12), 中村 雅子(2), 中村 公祐(2), 坂東 香代子(1), 土井原 良美(5)\n",
      "\n",
      "\n",
      "2週間1回も出してない人\n",
      "藤枝 美帆,長谷川 紗希,水野 隼,寄川 淳聖,黒川 夕鶴,齋藤 真衣子,塩入 翔也,田岡 佑基,谷口 萌,孫 辰希\n",
      "鍋山 雄樹, 澁澤 薫, 佐藤 恵美子, 坂東 正樹, 北條 海織\n"
     ]
    }
   ],
   "source": [
    "print(f'出してない人リスト({start_}-{end})')\n",
    "print()\n",
    "for i in range(len(texts)):\n",
    "    print(texts[i], ':',len(Ms[i]))\n",
    "    ok_display(Ms[i])\n",
    "    print()\n",
    "print()\n",
    "print('2週間1回も出してない人')\n",
    "ok_display(ALL_MISSING)"
   ]
  },
  {
   "cell_type": "code",
   "execution_count": null,
   "metadata": {},
   "outputs": [],
   "source": []
  },
  {
   "cell_type": "code",
   "execution_count": null,
   "metadata": {},
   "outputs": [],
   "source": []
  }
 ],
 "metadata": {
  "kernelspec": {
   "display_name": "Python 3",
   "language": "python",
   "name": "python3"
  },
  "language_info": {
   "codemirror_mode": {
    "name": "ipython",
    "version": 3
   },
   "file_extension": ".py",
   "mimetype": "text/x-python",
   "name": "python",
   "nbconvert_exporter": "python",
   "pygments_lexer": "ipython3",
   "version": "3.7.4"
  }
 },
 "nbformat": 4,
 "nbformat_minor": 2
}
